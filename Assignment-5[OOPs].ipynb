{
 "cells": [
  {
   "cell_type": "code",
   "execution_count": null,
   "id": "6634f4ff",
   "metadata": {},
   "outputs": [],
   "source": [
    "class num_power:\n",
    "    def pow(self, x, n):\n",
    "        if x == 0 or x == 1 or n == 1:\n",
    "            return x\n",
    "        if x == -1:\n",
    "            if n%2 == 0:\n",
    "                return 1\n",
    "            else:\n",
    "                return -1\n",
    "        if n == 0:\n",
    "            return 1\n",
    "        if n < 0:\n",
    "            return 1/self.pow(x, -n)\n",
    "        value = self.pow(x, n//2)\n",
    "        if n%2 == 0:\n",
    "            return value*value\n",
    "        return value*value*x\n",
    "print(num_power().pow(10, 2));"
   ]
  }
 ],
 "metadata": {
  "kernelspec": {
   "display_name": "Python 3 (ipykernel)",
   "language": "python",
   "name": "python3"
  },
  "language_info": {
   "codemirror_mode": {
    "name": "ipython",
    "version": 3
   },
   "file_extension": ".py",
   "mimetype": "text/x-python",
   "name": "python",
   "nbconvert_exporter": "python",
   "pygments_lexer": "ipython3",
   "version": "3.10.0"
  }
 },
 "nbformat": 4,
 "nbformat_minor": 5
}
